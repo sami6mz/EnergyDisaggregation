{
 "cells": [
  {
   "cell_type": "code",
   "execution_count": 13,
   "metadata": {},
   "outputs": [
    {
     "name": "stdout",
     "output_type": "stream",
     "text": [
      "0.9056515571130157\n",
      "Model saved to ../data_storage/linear_regression_model.p\n",
      "Model loaded from ../data_storage/linear_regression_model.p\n",
      "0.9056515571130157\n"
     ]
    }
   ],
   "source": [
    "from sklearn.datasets import load_iris\n",
    "from sklearn.model_selection import train_test_split\n",
    "from sklearn.linear_model import LinearRegression\n",
    "from stat_model import Stats\n",
    "\n",
    "# Load the Boston Housing dataset\n",
    "boston = load_iris()\n",
    "\n",
    "# Split the dataset into training and testing sets\n",
    "X_train, X_test, y_train, y_test = train_test_split(boston.data, boston.target, test_size=0.3)\n",
    "\n",
    "# Create a linear regression model\n",
    "lr_model = LinearRegression()\n",
    "\n",
    "# Create a Stats object\n",
    "stats_model = Stats(model=lr_model)\n",
    "\n",
    "# Fit the Stats model to the training data\n",
    "stats_model.fit(X_train, y_train)\n",
    "\n",
    "# Predict the target values for the test data\n",
    "y_pred = stats_model.predict(X_test)\n",
    "\n",
    "\n",
    "# Calculate the score of the model on the test data\n",
    "score = stats_model.score(X_test, y_test)\n",
    "print(score)\n",
    "\n",
    "# Save the model to a file\n",
    "stats_model.save('linear_regression_model.p')\n",
    "\n",
    "# Load the saved model\n",
    "stats_model.model =  stats_model.load('linear_regression_model.p')\n",
    "\n",
    "# Predict the target values for the test data using the loaded model\n",
    "y_pred_loaded = stats_model.predict(X_test)\n",
    "\n",
    "# Calculate the score of the loaded model on the test data\n",
    "score_loaded = stats_model.score(X_test, y_test)\n",
    "print(score_loaded)\n"
   ]
  }
 ],
 "metadata": {
  "kernelspec": {
   "display_name": "base",
   "language": "python",
   "name": "python3"
  },
  "language_info": {
   "codemirror_mode": {
    "name": "ipython",
    "version": 3
   },
   "file_extension": ".py",
   "mimetype": "text/x-python",
   "name": "python",
   "nbconvert_exporter": "python",
   "pygments_lexer": "ipython3",
   "version": "3.9.16"
  },
  "orig_nbformat": 4
 },
 "nbformat": 4,
 "nbformat_minor": 2
}
