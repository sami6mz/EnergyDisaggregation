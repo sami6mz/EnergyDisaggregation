{
 "cells": [
  {
   "cell_type": "code",
   "execution_count": 1,
   "metadata": {},
   "outputs": [
    {
     "name": "stderr",
     "output_type": "stream",
     "text": [
      "<frozen importlib._bootstrap>:228: RuntimeWarning: scipy._lib.messagestream.MessageStream size changed, may indicate binary incompatibility. Expected 56 from C header, got 64 from PyObject\n",
      "/Users/zakariatozy/IPP-ZAK/capstone/EnergyDisaggregation/EnergyDisaggregation/energydisaggregation/dataloader/dataloader.py:15: FutureWarning: The default value of regex will change from True to False in a future version. In addition, single character regular expressions will *not* be treated as literal strings when regex=True.\n",
      "  data[config[\"Date\"]].str.replace(\"T\", \" \").str.replace(\"+\", \" +\")\n",
      "/Users/zakariatozy/IPP-ZAK/capstone/EnergyDisaggregation/EnergyDisaggregation/energydisaggregation/dataloader/dataloader.py:14: SettingWithCopyWarning: \n",
      "A value is trying to be set on a copy of a slice from a DataFrame.\n",
      "Try using .loc[row_indexer,col_indexer] = value instead\n",
      "\n",
      "See the caveats in the documentation: https://pandas.pydata.org/pandas-docs/stable/user_guide/indexing.html#returning-a-view-versus-a-copy\n",
      "  data[config[\"Date\"]] = pd.to_datetime(\n",
      "/Users/zakariatozy/IPP-ZAK/capstone/EnergyDisaggregation/EnergyDisaggregation/energydisaggregation/dataloader/dataloader.py:15: FutureWarning: The default value of regex will change from True to False in a future version. In addition, single character regular expressions will *not* be treated as literal strings when regex=True.\n",
      "  data[config[\"Date\"]].str.replace(\"T\", \" \").str.replace(\"+\", \" +\")\n",
      "/Users/zakariatozy/IPP-ZAK/capstone/EnergyDisaggregation/EnergyDisaggregation/energydisaggregation/dataloader/dataloader.py:14: SettingWithCopyWarning: \n",
      "A value is trying to be set on a copy of a slice from a DataFrame.\n",
      "Try using .loc[row_indexer,col_indexer] = value instead\n",
      "\n",
      "See the caveats in the documentation: https://pandas.pydata.org/pandas-docs/stable/user_guide/indexing.html#returning-a-view-versus-a-copy\n",
      "  data[config[\"Date\"]] = pd.to_datetime(\n"
     ]
    }
   ],
   "source": [
    "from EnergyDisaggregation.energydisaggregation.dataloader.config import DATACONFIG, CONFIG_WEATHER, CONFIG_POWER\n",
    "from EnergyDisaggregation.energydisaggregation.feature_engineering.utils import get_dataframe\n",
    "import pandas as pd\n",
    "import warnings\n",
    "\n",
    "pd.options.plotting.backend = \"plotly\"\n",
    "warnings.simplefilter(action='ignore', category=FutureWarning)"
   ]
  },
  {
   "cell_type": "code",
   "execution_count": 2,
   "metadata": {},
   "outputs": [],
   "source": [
    "df_process = get_dataframe()"
   ]
  },
  {
   "cell_type": "code",
   "execution_count": 5,
   "metadata": {},
   "outputs": [
    {
     "data": {
      "text/plain": [
       "Index(['consommation brute électricité (mw) - rte', 'température (°c)',\n",
       "       'nebulosité totale', 'vitesse du vent moyen 10 mn', 'humidité',\n",
       "       'vitesse du vent en km/h', 'température ressentie', 'saison',\n",
       "       'week_day', 'month', 'hour', 'is_holiday', 'is_bank_holiday',\n",
       "       'day_of_year', 'years', 'regions', 'temperature_seuil', 'saturation',\n",
       "       'diff_seuil', 'température ressentie', 'température (°c)_mean_48',\n",
       "       'température (°c)_std_48', 'température (°c)_max_48',\n",
       "       'température (°c)_min_48', 'nebulosité totale_mean_3',\n",
       "       'nebulosité totale_std_3', 'month_sin', 'month_cos', 'week_day_sin',\n",
       "       'week_day_cos', 'hour_sin', 'hour_cos',\n",
       "       'consommation brute électricité (mw) - rte_lag_1',\n",
       "       'consommation brute électricité (mw) - rte_lag_2',\n",
       "       'consommation brute électricité (mw) - rte_lag_3',\n",
       "       'consommation brute électricité (mw) - rte_lag_4',\n",
       "       'consommation brute électricité (mw) - rte_lag_5',\n",
       "       'consommation brute électricité (mw) - rte_lag_6',\n",
       "       'consommation brute électricité (mw) - rte_lag_7',\n",
       "       'température (°c)_lag_1', 'température (°c)_lag_2',\n",
       "       'température (°c)_lag_3', 'température (°c)_lag_4',\n",
       "       'température (°c)_lag_5', 'température (°c)_lag_6',\n",
       "       'température (°c)_lag_7'],\n",
       "      dtype='object')"
      ]
     },
     "execution_count": 5,
     "metadata": {},
     "output_type": "execute_result"
    }
   ],
   "source": [
    "df_process.columns"
   ]
  },
  {
   "cell_type": "code",
   "execution_count": null,
   "metadata": {},
   "outputs": [],
   "source": [
    "df_process['hour']"
   ]
  },
  {
   "cell_type": "code",
   "execution_count": 4,
   "metadata": {},
   "outputs": [],
   "source": [
    "df_process.to_csv('EnergyDisaggregation/energydisaggregation/data_storage/df_process.csv')"
   ]
  }
 ],
 "metadata": {
  "kernelspec": {
   "display_name": "base",
   "language": "python",
   "name": "python3"
  },
  "language_info": {
   "codemirror_mode": {
    "name": "ipython",
    "version": 3
   },
   "file_extension": ".py",
   "mimetype": "text/x-python",
   "name": "python",
   "nbconvert_exporter": "python",
   "pygments_lexer": "ipython3",
   "version": "3.9.16"
  },
  "orig_nbformat": 4
 },
 "nbformat": 4,
 "nbformat_minor": 2
}
